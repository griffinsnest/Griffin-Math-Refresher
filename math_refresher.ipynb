{
  "nbformat": 4,
  "nbformat_minor": 0,
  "metadata": {
    "colab": {
      "name": "math-refresher.ipynb",
      "provenance": [],
      "authorship_tag": "ABX9TyNCRMIvS1r0aGxBAr6ao1EZ",
      "include_colab_link": true
    },
    "kernelspec": {
      "name": "python3",
      "display_name": "Python 3"
    },
    "language_info": {
      "name": "python"
    }
  },
  "cells": [
    {
      "cell_type": "markdown",
      "metadata": {
        "id": "view-in-github",
        "colab_type": "text"
      },
      "source": [
        "<a href=\"https://colab.research.google.com/github/griffinsnest/Griffin-Math-Refresher/blob/main/math_refresher.ipynb\" target=\"_parent\"><img src=\"https://colab.research.google.com/assets/colab-badge.svg\" alt=\"Open In Colab\"/></a>"
      ]
    },
    {
      "cell_type": "code",
      "metadata": {
        "colab": {
          "base_uri": "https://localhost:8080/",
          "height": 1000
        },
        "id": "FOoxAhS637pJ",
        "outputId": "4814c911-d721-4542-ddba-8e3fce6627b3"
      },
      "source": [
        "import numpy as np\n",
        "from scipy import stats\n",
        "import matplotlib\n",
        "\n",
        "x = np.random.rand(100)\n",
        "x2 = np.random.rand(100)\n",
        "print(x)\n",
        "print(x2)\n",
        "\n",
        "y = np.mean(x)\n",
        "z = np.median(x)\n",
        "a = stats.mode(x)\n",
        "b = stats.median_absolute_deviation(x)\n",
        "c = np.std(x)\n",
        "d = np.var(x)\n",
        "e = np.corrcoef(x, x2)\n",
        "f = stats.spearmanr(x, x2)\n",
        "g = matplotlib.pyplot.scatter(x, x2)\n",
        "h = np.log(x)\n",
        "i = np.exp(x)\n",
        "print(y)\n",
        "print(z)\n",
        "print(a)\n",
        "print(b)\n",
        "print(c)\n",
        "print(d)\n",
        "print(e)\n",
        "print(f)\n",
        "\n",
        "print(h)\n",
        "print(i)\n",
        "\n",
        "print(g)"
      ],
      "execution_count": 28,
      "outputs": [
        {
          "output_type": "stream",
          "name": "stdout",
          "text": [
            "[3.48964887e-01 4.32089875e-01 2.03496228e-01 1.91929744e-01\n",
            " 4.85012630e-01 1.44291971e-01 5.87573926e-01 8.21400991e-01\n",
            " 4.74112665e-02 3.41502308e-01 3.35884895e-01 6.92104796e-01\n",
            " 9.45661997e-01 5.61933150e-01 6.65418787e-01 4.59486563e-01\n",
            " 1.44072971e-01 1.88459583e-01 1.04419257e-01 7.67394580e-01\n",
            " 2.81631746e-01 1.86996996e-01 7.83810631e-01 6.95725520e-01\n",
            " 4.24142593e-02 6.73004482e-01 8.54869568e-01 6.84855838e-01\n",
            " 6.99364571e-02 1.86783069e-01 7.37963333e-01 1.32936131e-01\n",
            " 2.73264451e-01 4.68242179e-01 4.93747608e-01 3.97036551e-01\n",
            " 4.39109381e-01 5.16142839e-01 9.96565025e-01 1.40690623e-01\n",
            " 1.15572894e-01 7.79078015e-01 9.23249523e-03 5.10540814e-02\n",
            " 5.41546538e-01 4.63142924e-01 9.42795797e-01 1.90189209e-01\n",
            " 2.95553254e-01 8.10779162e-01 6.60365520e-01 1.21453151e-01\n",
            " 7.70089638e-01 2.92800269e-01 5.53206787e-01 1.26384271e-01\n",
            " 4.07984165e-01 1.37988564e-01 3.48493669e-01 6.41733637e-01\n",
            " 2.17060170e-01 7.60367639e-01 2.26627882e-01 4.76392265e-01\n",
            " 6.84534180e-02 9.24008020e-01 9.52904673e-01 3.98526921e-01\n",
            " 3.88033186e-02 4.97773105e-01 9.32674541e-02 9.95128219e-01\n",
            " 9.04474601e-01 2.75738828e-01 2.76618067e-02 2.70792517e-01\n",
            " 6.05642274e-01 9.15634918e-01 8.84065931e-01 5.10049143e-01\n",
            " 2.03589915e-01 4.10453943e-02 9.96679703e-01 5.79498413e-01\n",
            " 5.77261806e-01 8.90029618e-01 1.35872933e-02 1.65225905e-01\n",
            " 3.51459763e-02 4.89345534e-01 6.45774549e-01 1.21951049e-01\n",
            " 4.26560708e-01 7.46927825e-05 8.02512929e-01 9.07444407e-01\n",
            " 8.01704014e-01 6.62627706e-02 2.69077734e-01 8.13135276e-01]\n",
            "[0.15289636 0.2524486  0.99930748 0.10128419 0.56434734 0.11299953\n",
            " 0.50645537 0.54290208 0.32744995 0.57373681 0.60932414 0.22295609\n",
            " 0.53000379 0.41776964 0.27932604 0.87452806 0.92791945 0.94304549\n",
            " 0.55665776 0.80841722 0.41250979 0.16415005 0.93683342 0.57615738\n",
            " 0.13876076 0.43065795 0.28395122 0.87550902 0.74135826 0.52540164\n",
            " 0.53732038 0.19409904 0.96809136 0.28891217 0.75851706 0.33083338\n",
            " 0.15040007 0.41770616 0.13838971 0.62052285 0.38263596 0.85130486\n",
            " 0.24935508 0.2700148  0.28621045 0.41494612 0.40404591 0.58013259\n",
            " 0.24962652 0.56408433 0.62175363 0.02668963 0.017669   0.39275473\n",
            " 0.98855097 0.57408618 0.9182217  0.38903636 0.60193569 0.19488166\n",
            " 0.24675292 0.90065448 0.35721053 0.19903036 0.98249748 0.05482577\n",
            " 0.33394022 0.95804075 0.2750112  0.8004376  0.2901946  0.88991682\n",
            " 0.46763085 0.29794353 0.10615005 0.02178815 0.64886324 0.13869926\n",
            " 0.82878378 0.63191769 0.6765692  0.16313005 0.96362954 0.35229229\n",
            " 0.99020629 0.52769786 0.41899706 0.27400025 0.9720769  0.21789104\n",
            " 0.44526639 0.03726432 0.10062652 0.21907594 0.55457668 0.00402093\n",
            " 0.87054271 0.95027091 0.61654019 0.7704639 ]\n",
            "0.44672961923475485\n",
            "0.43559962775279076\n",
            "ModeResult(mode=array([7.46927825e-05]), count=array([1]))\n",
            "0.38297860467939293\n",
            "0.3010752928202395\n",
            "0.09064633194679296\n",
            "[[1.         0.13191231]\n",
            " [0.13191231 1.        ]]\n",
            "SpearmanrResult(correlation=0.13936993699369934, pvalue=0.1666842891633183)\n",
            "[-1.05278397e+00 -8.39121668e-01 -1.59210781e+00 -1.65062589e+00\n",
            " -7.23580347e-01 -1.93591645e+00 -5.31753210e-01 -1.96743871e-01\n",
            " -3.04889539e+00 -1.07440084e+00 -1.09098675e+00 -3.68017896e-01\n",
            " -5.58700707e-02 -5.76372386e-01 -4.07338681e-01 -7.77645580e-01\n",
            " -1.93743537e+00 -1.66887171e+00 -2.25934116e+00 -2.64754164e-01\n",
            " -1.26715493e+00 -1.67666273e+00 -2.43587830e-01 -3.62800065e-01\n",
            " -3.16027067e+00 -3.96003290e-01 -1.56806374e-01 -3.78546918e-01\n",
            " -2.66016821e+00 -1.67780739e+00 -3.03861140e-01 -2.01788649e+00\n",
            " -1.29731527e+00 -7.58769641e-01 -7.05730807e-01 -9.23726933e-01\n",
            " -8.23006739e-01 -6.61371732e-01 -3.44088827e-03 -1.96119196e+00\n",
            " -2.15785383e+00 -2.49644091e-01 -4.68502593e+00 -2.97486979e+00\n",
            " -6.13326273e-01 -7.69719581e-01 -5.89055664e-02 -1.65973587e+00\n",
            " -1.21890624e+00 -2.09759565e-01 -4.14961779e-01 -2.10822668e+00\n",
            " -2.61248358e-01 -1.22826458e+00 -5.92023411e-01 -2.06842824e+00\n",
            " -8.96526917e-01 -1.98058447e+00 -1.05413522e+00 -4.43581957e-01\n",
            " -1.52758068e+00 -2.73953227e-01 -1.48444589e+00 -7.41513679e-01\n",
            " -2.68160179e+00 -7.90345280e-02 -4.82404082e-02 -9.19980227e-01\n",
            " -3.24924951e+00 -6.97610918e-01 -2.37228406e+00 -4.88368720e-03\n",
            " -1.00401055e-01 -1.28830113e+00 -3.58770264e+00 -1.30640237e+00\n",
            " -5.01465773e-01 -8.81375546e-02 -1.23223637e-01 -6.73248199e-01\n",
            " -1.59164753e+00 -3.19307665e+00 -3.32582168e-03 -5.45592356e-01\n",
            " -5.49459379e-01 -1.16500538e-01 -4.29862024e+00 -1.80044162e+00\n",
            " -3.34824514e+00 -7.14686426e-01 -4.37304831e-01 -2.10413556e+00\n",
            " -8.52000582e-01 -9.50212709e+00 -2.20007313e-01 -9.71229744e-02\n",
            " -2.21015800e-01 -2.71412707e+00 -1.31275497e+00 -2.06857792e-01]\n",
            "[1.41759941 1.54047356 1.22568053 1.21158539 1.62419552 1.15522135\n",
            " 1.79961711 2.27368302 1.04855316 1.40705984 1.39917796 1.99791632\n",
            " 2.57451714 1.75406009 1.94530502 1.58326087 1.15496838 1.20738828\n",
            " 1.11006576 2.15414648 1.32529059 1.20562366 2.18980091 2.00516333\n",
            " 1.0433266  1.96011762 2.35106771 1.98348587 1.07244003 1.20536578\n",
            " 2.09167114 1.14217705 1.31424775 1.59718416 1.63844498 1.4874103\n",
            " 1.55132496 1.67555229 2.70896062 1.15106848 1.12251634 2.17946191\n",
            " 1.00927525 1.05237981 1.71866279 1.58906044 2.56714862 1.20947842\n",
            " 1.34386965 2.24966015 1.93549967 1.12913647 2.15995986 1.34017509\n",
            " 1.73882011 1.13471812 1.50378335 1.14796242 1.41693157 1.89977154\n",
            " 1.24241886 2.13906248 1.25436301 1.61025454 1.07085074 2.51936786\n",
            " 2.59323122 1.48962874 1.039566   1.64505383 1.0977553  2.70507116\n",
            " 2.47063351 1.31750372 1.02804795 1.31100303 1.83242875 2.498361\n",
            " 2.42072221 1.66537303 1.22579537 1.0418994  2.70927129 1.7851428\n",
            " 1.7811546  2.43520178 1.01368002 1.17965958 1.0357709  1.63124827\n",
            " 1.90746388 1.1296988  1.53197953 1.0000747  2.23114059 2.47798172\n",
            " 2.22933651 1.06850745 1.30875687 2.25496686]\n",
            "<matplotlib.collections.PathCollection object at 0x7fd360256ed0>\n"
          ]
        },
        {
          "output_type": "display_data",
          "data": {
            "image/png": "[encoded data removed]",
            "text/plain": [
              "<Figure size 432x288 with 1 Axes>"
            ]
          },
          "metadata": {
            "needs_background": "light"
          }
        }
      ]
    },
    {
      "cell_type": "code",
      "metadata": {
        "id": "A9WvSgjY4cIj"
      },
      "source": [
        ""
      ],
      "execution_count": null,
      "outputs": []
    }
  ]
}